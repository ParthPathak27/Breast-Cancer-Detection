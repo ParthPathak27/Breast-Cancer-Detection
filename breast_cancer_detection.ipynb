{
  "nbformat": 4,
  "nbformat_minor": 0,
  "metadata": {
    "colab": {
      "name": "breast_cancer_detection.ipynb",
      "provenance": [],
      "authorship_tag": "ABX9TyPmcVMzfF2qzAFxKH7+idlN",
      "include_colab_link": true
    },
    "kernelspec": {
      "name": "python3",
      "display_name": "Python 3"
    }
  },
  "cells": [
    {
      "cell_type": "markdown",
      "metadata": {
        "id": "view-in-github",
        "colab_type": "text"
      },
      "source": [
        "<a href=\"https://colab.research.google.com/github/ParthPathak27/Breast-Cancer-Detection/blob/main/breast_cancer_detection.ipynb\" target=\"_parent\"><img src=\"https://colab.research.google.com/assets/colab-badge.svg\" alt=\"Open In Colab\"/></a>"
      ]
    },
    {
      "cell_type": "markdown",
      "metadata": {
        "id": "A1rZSwmyDOog"
      },
      "source": [
        "# Breast Cancer Detection using Machine Learning"
      ]
    },
    {
      "cell_type": "markdown",
      "metadata": {
        "id": "xfuApqknDVaE"
      },
      "source": [
        "In this section, I will implement a Naive Bayes algorithm in Machine Learning using Python. For this task, I will use a database of breast cancer tumour information for breast cancer detection.\r\n",
        "\r\n",
        "Let’s start by importing and loading the necessary python libraries and the breast cancer dataset provided by Scikit-learn:"
      ]
    },
    {
      "cell_type": "code",
      "metadata": {
        "id": "woNzgWJ7CpAk"
      },
      "source": [
        "from sklearn.datasets import load_breast_cancer\r\n",
        "from sklearn.model_selection import train_test_split\r\n",
        "from sklearn.naive_bayes import GaussianNB\r\n",
        "from sklearn.linear_model import LinearRegression\r\n",
        "from sklearn.metrics import accuracy_score"
      ],
      "execution_count": 1,
      "outputs": []
    },
    {
      "cell_type": "markdown",
      "metadata": {
        "id": "Nh7YN63BDjPb"
      },
      "source": [
        "Now we need to create new variables for each important set of information that we find useful and assign the attributes in the dataset to those variables:"
      ]
    },
    {
      "cell_type": "code",
      "metadata": {
        "id": "GsshLJX_CvKQ"
      },
      "source": [
        "data = load_breast_cancer()\r\n",
        "label_names = data[\"target_names\"]\r\n",
        "labels = data[\"target\"]\r\n",
        "feature_names = data[\"feature_names\"]\r\n",
        "features = data[\"data\"]"
      ],
      "execution_count": 2,
      "outputs": []
    },
    {
      "cell_type": "markdown",
      "metadata": {
        "id": "07hhMo4MDm0D"
      },
      "source": [
        "We now have values for each set of useful information in the dataset. To better understand our dataset, let’s take a look at our data by printing our class labels, the label for the first data instance, our entity names, and the entity values for the first data instance:"
      ]
    },
    {
      "cell_type": "code",
      "metadata": {
        "colab": {
          "base_uri": "https://localhost:8080/"
        },
        "id": "J6d4C8CrC10S",
        "outputId": "e2697f34-967a-4ab7-e98c-77b0d802cf69"
      },
      "source": [
        "print(label_names)\r\n",
        "print(\"Class label :\", labels[0])\r\n",
        "print(feature_names)\r\n",
        "print(features[0], \"\\n\")"
      ],
      "execution_count": 3,
      "outputs": [
        {
          "output_type": "stream",
          "text": [
            "['malignant' 'benign']\n",
            "Class label : 0\n",
            "['mean radius' 'mean texture' 'mean perimeter' 'mean area'\n",
            " 'mean smoothness' 'mean compactness' 'mean concavity'\n",
            " 'mean concave points' 'mean symmetry' 'mean fractal dimension'\n",
            " 'radius error' 'texture error' 'perimeter error' 'area error'\n",
            " 'smoothness error' 'compactness error' 'concavity error'\n",
            " 'concave points error' 'symmetry error' 'fractal dimension error'\n",
            " 'worst radius' 'worst texture' 'worst perimeter' 'worst area'\n",
            " 'worst smoothness' 'worst compactness' 'worst concavity'\n",
            " 'worst concave points' 'worst symmetry' 'worst fractal dimension']\n",
            "[1.799e+01 1.038e+01 1.228e+02 1.001e+03 1.184e-01 2.776e-01 3.001e-01\n",
            " 1.471e-01 2.419e-01 7.871e-02 1.095e+00 9.053e-01 8.589e+00 1.534e+02\n",
            " 6.399e-03 4.904e-02 5.373e-02 1.587e-02 3.003e-02 6.193e-03 2.538e+01\n",
            " 1.733e+01 1.846e+02 2.019e+03 1.622e-01 6.656e-01 7.119e-01 2.654e-01\n",
            " 4.601e-01 1.189e-01] \n",
            "\n"
          ],
          "name": "stdout"
        }
      ]
    },
    {
      "cell_type": "markdown",
      "metadata": {
        "id": "ONClCxN_DsWv"
      },
      "source": [
        "Now that our data is loaded, we can work with our data to build our machine learning model using the Naive Bayes algorithm for the breast cancer detection task."
      ]
    },
    {
      "cell_type": "markdown",
      "metadata": {
        "id": "96-Y5EYdDwta"
      },
      "source": [
        "## Splitting The Dataset"
      ]
    },
    {
      "cell_type": "markdown",
      "metadata": {
        "id": "XPgBB0E5D7pW"
      },
      "source": [
        "To evaluate the performance of a classifier, you should always test the model on invisible data. Therefore, before I create a machine learning model for breast cancer detection, I will divide your data into two parts: an 80% training set and a 20% test set:"
      ]
    },
    {
      "cell_type": "code",
      "metadata": {
        "id": "DTHw0iMcC5bB"
      },
      "source": [
        "train, test, train_labels, test_labels = train_test_split(features, labels, test_size=0.2, random_state=42)"
      ],
      "execution_count": 4,
      "outputs": []
    },
    {
      "cell_type": "markdown",
      "metadata": {
        "id": "lzJvAqtmD_Z6"
      },
      "source": [
        "## Using Naive Bayes for Breast Cancer Detection"
      ]
    },
    {
      "cell_type": "markdown",
      "metadata": {
        "id": "aaKBJTqvEDKR"
      },
      "source": [
        "There are many models of machine learning, and each model has its strengths and weaknesses. For the Breast Cancer Detection Model task, I will focus on a simple algorithm that generally works well in binary classification tasks, namely the Naive Bayes classifier:"
      ]
    },
    {
      "cell_type": "code",
      "metadata": {
        "colab": {
          "base_uri": "https://localhost:8080/"
        },
        "id": "0WlPjwe-DBD7",
        "outputId": "34c0fa2c-ee48-4f88-8ea6-a566f1182cec"
      },
      "source": [
        "gnb = GaussianNB()\r\n",
        "gnb.fit(train, train_labels)"
      ],
      "execution_count": 5,
      "outputs": [
        {
          "output_type": "execute_result",
          "data": {
            "text/plain": [
              "GaussianNB(priors=None, var_smoothing=1e-09)"
            ]
          },
          "metadata": {
            "tags": []
          },
          "execution_count": 5
        }
      ]
    },
    {
      "cell_type": "markdown",
      "metadata": {
        "id": "li0fBovIEGo6"
      },
      "source": [
        "After training the model, we can then use the trained model to make predictions on our test set, which we use the predict() function.\r\n",
        "\r\n",
        "The predict() function returns an array of predictions for each data instance in the test set. We can then print out our predictions to get a feel for what the model determined:"
      ]
    },
    {
      "cell_type": "code",
      "metadata": {
        "colab": {
          "base_uri": "https://localhost:8080/"
        },
        "id": "OYDCU3CmDEC0",
        "outputId": "d8304734-9b82-473e-de92-3135f0b74025"
      },
      "source": [
        "preds = gnb.predict(test)\r\n",
        "print(preds, \"\\n\")"
      ],
      "execution_count": 6,
      "outputs": [
        {
          "output_type": "stream",
          "text": [
            "[1 0 0 1 1 0 0 0 1 1 1 0 1 0 1 0 1 1 1 0 1 1 0 1 1 1 1 1 1 0 1 1 1 1 1 1 0\n",
            " 1 0 1 1 0 1 1 1 1 1 1 1 1 0 0 1 1 1 1 1 0 0 1 1 0 0 1 1 1 0 0 1 1 0 0 1 0\n",
            " 1 1 1 1 1 1 0 1 1 0 0 0 0 0 1 1 1 1 1 1 1 1 0 0 1 0 0 1 0 0 1 1 1 0 1 1 0\n",
            " 1 1 0] \n",
            "\n"
          ],
          "name": "stdout"
        }
      ]
    },
    {
      "cell_type": "markdown",
      "metadata": {
        "id": "ckhwCUZLEKVn"
      },
      "source": [
        "Using the array of true class labels, we can assess the accuracy of our model’s predictors by comparing the two arrays (test_labels vs preds).\r\n",
        "\r\n",
        "I’ll use the accuracy_score () function provided by Scikit-Learn to determine the accuracy rate of our machine learning classifier:"
      ]
    },
    {
      "cell_type": "code",
      "metadata": {
        "colab": {
          "base_uri": "https://localhost:8080/"
        },
        "id": "ocHGQsnlDG5t",
        "outputId": "11fb4a5a-4ef9-42d7-aa7c-ff2e3fadfd88"
      },
      "source": [
        "print(accuracy_score(test_labels, preds))"
      ],
      "execution_count": 7,
      "outputs": [
        {
          "output_type": "stream",
          "text": [
            "0.9736842105263158\n"
          ],
          "name": "stdout"
        }
      ]
    }
  ]
}